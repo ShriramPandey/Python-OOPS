{
  "nbformat": 4,
  "nbformat_minor": 0,
  "metadata": {
    "colab": {
      "provenance": [],
      "toc_visible": true
    },
    "kernelspec": {
      "name": "python3",
      "display_name": "Python 3"
    },
    "language_info": {
      "name": "python"
    }
  },
  "cells": [
    {
      "cell_type": "markdown",
      "source": [
        "# Assignment Questions"
      ],
      "metadata": {
        "id": "dEOFw-S7-Zbh"
      }
    },
    {
      "cell_type": "markdown",
      "source": [
        "1. #What is Object-Oriented Programming (OOP)?\n",
        "    - Object-Oriented Programming (OOP) is a programming paradigm (style of programming) that organizes software design around objects rather than just functions and logic. The main goal of OOP is to make code more modular, reusable, and easier to maintain by modeling software after real-world entities.\n",
        "      * Benefits of OOP:\n",
        "          1. Modular and organized code.\n",
        "          2. Easier to maintain and scale.\n",
        "          3. Promotes code reusability.\n",
        "          4. Makes complex systems easier to model and understand.\n",
        "\n",
        "\n",
        "\n",
        "\n",
        "\n"
      ],
      "metadata": {
        "id": "JKCO6WbL-gVd"
      }
    },
    {
      "cell_type": "markdown",
      "source": [
        "2. #What is a class in OOP?\n",
        "  - In Object-Oriented Programming (OOP), a class is a blueprint or template for creating objects.It defines the structure (attributes/data) and behavior (methods/functions) that its objects will have.\n",
        "  Think of it as a design plan—like an architect’s drawing for a house. The drawing itself is not a house, but you can build many houses (objects) from it."
      ],
      "metadata": {
        "id": "Y1LfYMoa_YiA"
      }
    },
    {
      "cell_type": "markdown",
      "source": [
        "3. #What is an object in OOP?\n",
        "    - In Object-Oriented Programming (OOP), an object is an instance of a class.\n",
        "    - If a class is like a blueprint, then an object is the actual thing built from that blueprint.\n",
        "        * A class defines the structure.\n",
        "        * An object is a usable instance of that structure.\n",
        "\n"
      ],
      "metadata": {
        "id": "sJW0h8ff_s1L"
      }
    },
    {
      "cell_type": "markdown",
      "source": [
        "4. #What is the difference between abstraction and encapsulation?\n",
        "    - **Abstraction**\n",
        "      * Definition: Hiding the implementation details and showing only the essential features to the user.\n",
        "      * Goal: To focus on what an object does, not how it does it.\n",
        "    - **Encapsulation**\n",
        "      * Definition: Wrapping data (attributes) and methods (functions) together inside a single unit (class) and restricting direct access to some parts.\n",
        "      * Goal: To protect the data and control how it’s accessed or modified."
      ],
      "metadata": {
        "id": "znV7jfp8APV1"
      }
    },
    {
      "cell_type": "markdown",
      "source": [
        "5. #What are dunder methods in Python?\n",
        "    - In Python, dunder methods (short for “double underscore methods”) are special, predefined methods that have names starting and ending with double underscores, it is also called Magic Method/Special Method."
      ],
      "metadata": {
        "id": "ywHRUeoXAyTd"
      }
    },
    {
      "cell_type": "markdown",
      "source": [
        "6. #Explain the concept of inheritance in OOP ?\n",
        "    - **Inheritance:-**\n",
        "      * Inheritance is a mechanism in OOP where a class (child/subclass) can derive properties and behaviors from another class (parent/superclass).\n",
        "      * It’s like reusing code: the child class inherits attributes and methods of the parent, but it can also have its own unique attributes and methods.\n",
        "    - **Key Points:-**\n",
        "      1. Parent Class (Superclass): The class whose features are inherited.\n",
        "      2. Child Class (Subclass): The class that inherits from the parent.\n",
        "      3. Code Reusability: Avoids rewriting code.\n",
        "      4. Overriding: Child class can modify or extend parent methods.\n",
        "\n",
        "\n",
        "\n",
        "\n",
        "\n",
        "\n",
        "\n"
      ],
      "metadata": {
        "id": "gNYOMiF5BcDy"
      }
    },
    {
      "cell_type": "markdown",
      "source": [
        "7. #What is polymorphism in OOP?\n",
        "    - In Python,Polymorphism refers to an object taking several forms depending on the methods/data\n",
        "    - Polymorphism in OOPS takes places in two ways:\n",
        "      * Method overloading >> python doesnt support true method overloading\n",
        "      * Method overriding"
      ],
      "metadata": {
        "id": "LwLd39-MCHsG"
      }
    },
    {
      "cell_type": "markdown",
      "source": [
        "8. #How is encapsulation achieved in Python/\n",
        "    - In Python, encapsulation is the concept of hiding the internal state of an object and restricting direct access to its attributes, while still allowing controlled access through methods. It’s a way to protect data and ensure integrity.\n",
        "        * Public Attribute\n",
        "        * private Attribute\n",
        "        * Protected Attribute"
      ],
      "metadata": {
        "id": "fXTbFj_4DozW"
      }
    },
    {
      "cell_type": "markdown",
      "source": [
        "9. #>H What is a constructor in Python?\n",
        "    - In Python, a constructor is a special method used to initialize a newly created object of a class. It sets up the initial state (attributes) of the object when it is created.\n",
        "        * The constructor method in Python is called __init__().\n",
        "        * It is automatically called when an object is instantiated.\n",
        "        * You can pass parameters to it to initialize attributes dynamically.\n",
        "        * It helps ensure that an object starts its life with the necessary data.\n",
        "\n",
        "\n",
        "\n",
        "\n"
      ],
      "metadata": {
        "id": "gEA50eQmD-wr"
      }
    },
    {
      "cell_type": "markdown",
      "source": [
        "10. #What are class and static methods in Python?\n",
        "    1. Class Methods:\n",
        "        * Definition: A method that belongs to the class, not an instance of the class.\n",
        "        * Decorator: @classmethod\n",
        "        * First parameter: cls (refers to the class itself, not the object)\n",
        "        * Can access/modify class-level attributes, but cannot access instance attributes directly.\n",
        "    2. Static Methods:\n",
        "        * Definition: A method that does not depend on the class or instance.\n",
        "        * Decorator: @staticmethod\n",
        "        * No special first parameter (self or cls not required)\n",
        "        * Typically used as utility functions related to the class.\n",
        "\n",
        "\n",
        "\n",
        "  \n",
        "\n",
        "\n",
        "\n",
        "\n",
        "\n",
        "\n",
        "\n"
      ],
      "metadata": {
        "id": "CzZG5WNSEkCL"
      }
    },
    {
      "cell_type": "markdown",
      "source": [
        "11. #What is method overloading in Python?\n",
        "    - In Python, method overloading is the ability to define multiple methods with the same name but different parameters in the same class. It’s a concept from traditional OOP languages like Java or C++, but Python does not support true method overloading natively."
      ],
      "metadata": {
        "id": "pdxrlCcoFiHg"
      }
    },
    {
      "cell_type": "markdown",
      "source": [
        "12. #What is method overriding in OOP?\n",
        "      - In Object-Oriented Programming (OOP), method overriding is the ability of a child (subclass) to provide a new implementation for a method that is already defined in its parent (superclass).\n",
        "          * Method name and parameters must be the same as in the parent class.\n",
        "          * It is used to change or enhance behavior in the child class.\n",
        "          * Supports runtime polymorphism in OOP.\n",
        "\n",
        "\n",
        "\n"
      ],
      "metadata": {
        "id": "R58h29oFGJU8"
      }
    },
    {
      "cell_type": "markdown",
      "source": [
        "13. #What is a property decorator in Python?\n",
        "    - In Python, a property decorator (@property) is a way to define methods in a class that can be accessed like attributes. It allows you to control access to instance attributes without changing the syntax for getting, setting, or deleting them.\n",
        "        * @property makes a method behave like a read-only attribute.\n",
        "        * You can also define a setter using @<property_name>.setter to allow modification.\n",
        "        * You can define a deleter using @<property_name>.deleter to allow deletion.\n",
        "        * Improves code readability and encapsulation.\n",
        "\n",
        "\n",
        "\n",
        "\n",
        "\n"
      ],
      "metadata": {
        "id": "4VQOVh8LGh4Y"
      }
    },
    {
      "cell_type": "markdown",
      "source": [
        "14. #Why is polymorphism important in OOP?\n",
        "    - Polymorphism is important because it allows OOP programs to be:\n",
        "        * Flexible – same method works on different objects\n",
        "        * Reusable – fewer redundant functions\n",
        "        * Maintainable – easy to extend without modifying existing code\n",
        "        * Readable and clean – reduces complex conditional logic\n",
        "\n",
        "\n",
        "\n",
        "\n",
        "\n",
        "\n",
        "\n"
      ],
      "metadata": {
        "id": "L5MxifDdHKcS"
      }
    },
    {
      "cell_type": "markdown",
      "source": [
        "15. #What is an abstract class in Python?\n",
        "    - An abstract class in Python is a template class that defines methods to be implemented by its subclasses, ensuring consistency and enabling polymorphism, while preventing direct instantiation."
      ],
      "metadata": {
        "id": "FP9DhUZBJVBq"
      }
    },
    {
      "cell_type": "markdown",
      "source": [
        "16. #What are the advantages of OOP?\n",
        "    - Object-Oriented Programming (OOP) offers several advantages over procedural programming, making it a popular paradigm for designing complex and scalable software\n",
        "    - **Advantages of OOP**\n",
        "      1. Modularity : Code is organized into classes and objects, each representing a distinct module or component\n",
        "      2. Reusability : Classes can be reused across programs using inheritance.\n",
        "      3. Encapsulation : Data and methods are bundled together inside objects.\n",
        "      4. Abstraction : Hides the complex implementation details and exposes only the essential features.\n",
        "      5. Polymorphism : Allows the same interface (method name) to work with different object types.\n",
        "      6. Inheritance : Enables a class to inherit attributes and methods from another class.\n",
        "      7. Maintainability and Scalability : Well-structured OOP code is easier to update, extend, and maintain over time.\n",
        "      8. Real-world Modeling : Objects in OOP can represent real-world entities, making software design more intuitive."
      ],
      "metadata": {
        "id": "KHflPsshKQys"
      }
    },
    {
      "cell_type": "markdown",
      "source": [
        "17. #What is the difference between a class variable and an instance variable?\n",
        "    1. Class Variable:-\n",
        "        * Belongs to the class itself, not a specific object.\n",
        "        * Shared by all instances of the class.\n",
        "        * Declared outside any method, directly inside the class.\n",
        "    2. Instance Variable:-\n",
        "        * Belongs to a specific object (instance) of a class.\n",
        "        * Each object has its own copy of the variable.\n",
        "        * Declared inside the __init__() constructor using self.\n",
        "\n",
        "\n",
        "\n",
        "\n",
        "\n",
        "\n",
        "\n",
        "\n",
        "\n",
        "\n",
        "\n"
      ],
      "metadata": {
        "id": "GjO4-zlKLrya"
      }
    },
    {
      "cell_type": "markdown",
      "source": [
        "18. #What is multiple inheritance in Python?\n",
        "    - In Python, multiple inheritance is a feature where a class can inherit attributes and methods from more than one parent class. This allows a child class to combine functionality from multiple classes.\n",
        "      * A class can have more than one parent class.\n",
        "      * The child class inherits all attributes and methods from its parent classes.\n",
        "      * Method Resolution Order (MRO) determines which parent’s method is called if multiple parents have a method with the same name."
      ],
      "metadata": {
        "id": "YbDF3_ZeMPEz"
      }
    },
    {
      "cell_type": "markdown",
      "source": [
        "19. #Explain the purpose of ‘’__str__’ and ‘__repr__’ ‘ methods in Python.\n",
        "    - In Python, __str__ and __repr__ are special (Magic) methods used to define string representations of objects, but they serve slightly different purposes.\n",
        "    1. __str__:-\n",
        "       * Purpose: Provides a user-friendly, readable string representation of an object.\n",
        "       * Used by: print() function and str() function.\n",
        "       * Goal: Make the output understandable for end users.\n",
        "    2. __repr__:-\n",
        "       * Purpose: Provides an unambiguous string representation of an object, ideally one that could be used to recreate the object.\n",
        "        * Used by: repr() function and interactive interpreter (when you just type the object’s name).\n",
        "        * Goal: Mainly for developers/debugging.\n",
        "\n",
        "\n",
        "\n",
        "\n",
        "\n"
      ],
      "metadata": {
        "id": "MmAUSazQMzdK"
      }
    },
    {
      "cell_type": "markdown",
      "source": [
        "20. #What is the significance of the ‘super()’ function in Python?\n",
        "    - In Python, the super() function is used to call methods from a parent (super) class inside a child (sub) class. It’s especially useful in inheritance to reuse parent class functionality without explicitly naming the parent class.\n",
        "      1. Access Parent Methods\n",
        "      2. Avoid hardcoding parent Name\n",
        "      3. Support Multiple inheritence."
      ],
      "metadata": {
        "id": "t-t3EFMzNuKs"
      }
    },
    {
      "cell_type": "markdown",
      "source": [
        "21. #What is the significance of the __del__ method in Python?\n",
        "    - The __del__ method in Python is known as a destructor. It is a special (Magic) method that is called when an object is about to be destroyed, i.e., when it is about to be garbage collected. Its main purpose is to allow an object to clean up resources it holds before it is removed from memory."
      ],
      "metadata": {
        "id": "i0wnE5FfOntc"
      }
    },
    {
      "cell_type": "markdown",
      "source": [
        "22. #What is the difference between @staticmethod and @classmethod in Python?\n",
        "     1. **@staticmethod**\n",
        "         * Does not take self or cls as the first argument.\n",
        "         * Behaves like a regular function but belongs to the class’s namespace.\n",
        "         * Cannot access instance attributes (self) or class attributes (cls).\n",
        "         * Useful for utility functions that relate to the class logically but don’t need class or instance data.\n",
        "         * **Example:-**\n",
        "            * class MathUtils:\n",
        "            * @staticmethod\n",
        "            * def add(x, y):\n",
        "            * return x + y\n",
        "            * print(MathUtils.add(5, 3))  # Output: 8\n",
        "\n",
        "      2. **@classmethod**\n",
        "         * Takes cls as the first argument, which refers to the class itself, not an instance\n",
        "          * Can access and modify class-level attributes, but not instance-level attributes\n",
        "          * Often used for factory methods or methods that affect the class as a whole.\n",
        "          * **Example:-**\n",
        "              * class Person:\n",
        "              * species = \"Homo sapiens\"\n",
        "              * def __init__(self, name):\n",
        "              * self.name = name\n",
        "              * @classmethod\n",
        "              * def change_species(cls, new_species):\n",
        "              * cls.species = new_species\n",
        "              * Person.change_species(\"Homo neanderthalensis\")\n",
        "              * print(Person.species)  # Output: Homo neanderthalensis\n",
        "\n",
        "\n",
        "\n",
        "\n",
        "\n",
        "\n",
        "\n",
        "\n",
        "\n",
        "\n",
        "\n",
        "\n",
        "\n"
      ],
      "metadata": {
        "id": "2bELvKW3YxYL"
      }
    },
    {
      "cell_type": "markdown",
      "source": [
        "23. #How does polymorphism work in Python with inheritance?\n",
        "    - Polymorphism in Python refers to the ability of different objects (often of different classes) to respond to the same method call in a way that is appropriate to their type. When combined with inheritance, it allows child classes to override or extend the behavior of parent classes, so the same interface can produce different behaviors depending on the object.\n",
        "    \n",
        "    - Polymorphism with Inheritance:-\n",
        "      * When classes inherit from a common base class, child classes can override methods of the parent, while still being treated as instances of the parent type."
      ],
      "metadata": {
        "id": "-xsqmPSwaa8i"
      }
    },
    {
      "cell_type": "markdown",
      "source": [
        "24. #What is method chaining in Python OOP?\n",
        "    - Method chaining in Python OOP is a programming technique where multiple methods are called on the same object consecutively in a single line. Each method in the chain returns the object itself (usually self), allowing the next method to be called immediately.\n",
        "    - **Below is the Example That how it works:-**"
      ],
      "metadata": {
        "id": "XTfPgO5Ua867"
      }
    },
    {
      "cell_type": "code",
      "source": [
        "class Car:\n",
        "    def __init__(self):\n",
        "        self.speed = 0\n",
        "        self.color = \"White\"\n",
        "\n",
        "    def set_speed(self, speed):\n",
        "        self.speed = speed\n",
        "        return self  # Return the object itself\n",
        "\n",
        "    def set_color(self, color):\n",
        "        self.color = color\n",
        "        return self  # Return the object itself\n",
        "\n",
        "    def show(self):\n",
        "        print(f\"Car color: {self.color}, speed: {self.speed}\")\n",
        "        return self  # Optional: allows chaining even after printing\n"
      ],
      "metadata": {
        "id": "Nna9UqvWbWgr"
      },
      "execution_count": null,
      "outputs": []
    },
    {
      "cell_type": "code",
      "source": [
        "car = Car()\n",
        "car.set_speed(120).set_color(\"Red\").show()\n"
      ],
      "metadata": {
        "colab": {
          "base_uri": "https://localhost:8080/"
        },
        "id": "cQdtksIWbaMI",
        "outputId": "24ef2fe5-c7d9-4921-8f0b-d8c8f30c5e68"
      },
      "execution_count": null,
      "outputs": [
        {
          "output_type": "stream",
          "name": "stdout",
          "text": [
            "Car color: Red, speed: 120\n"
          ]
        },
        {
          "output_type": "execute_result",
          "data": {
            "text/plain": [
              "<__main__.Car at 0x7db9d1848f50>"
            ]
          },
          "metadata": {},
          "execution_count": 2
        }
      ]
    },
    {
      "cell_type": "markdown",
      "source": [
        "25. #What is the purpose of the __call__ method in Python?\n",
        "    - The __call__ method in Python is a special (magic) method that allows an instance of a class to be called as if it were a function. Essentially, if a class defines __call__, then its objects become callable.\n",
        "    - Purpose of __call__\n",
        "        * Function-like Objects : Encapsulate both state and behavior in one object that can still be called like a function.\n",
        "        * Callback Handlers : Objects with __call__ can be used as callbacks in frameworks or libraries that expect functions.\n",
        "        * Decorator Classes :  Classes that implement __call__ can act as decorators.\n",
        "        * Customizable Function Behavior : You can store configuration in the object and have __call__ behave differently depending on internal state.\n",
        "\n",
        "\n",
        "\n",
        "\n",
        "\n"
      ],
      "metadata": {
        "id": "oBXjEbEibr_o"
      }
    },
    {
      "cell_type": "markdown",
      "source": [
        "# Practical Questions"
      ],
      "metadata": {
        "id": "x8WfrT6JdYFm"
      }
    },
    {
      "cell_type": "code",
      "source": [
        "1. #Create a parent class Animal with a method speak() that prints a generic message. Create a child class Dog that overrides the speak() method to print \"Bark!\".\n",
        "# Parent class\n",
        "class animal:\n",
        "  def speak(self):\n",
        "    print(\"generic massage\")\n",
        "\n",
        "class Dog(animal):\n",
        "  def speak(speak):\n",
        "    print(\"Bark!\")\n",
        "\n",
        "animal = animal()\n",
        "animal.speak()\n",
        "\n",
        "Dog = Dog()\n",
        "Dog.speak()\n"
      ],
      "metadata": {
        "colab": {
          "base_uri": "https://localhost:8080/"
        },
        "id": "YD3ypkGhddLN",
        "outputId": "7343fabc-03cf-47c0-da28-90afe8588047"
      },
      "execution_count": null,
      "outputs": [
        {
          "output_type": "stream",
          "name": "stdout",
          "text": [
            "generic massage\n",
            "Bark!\n"
          ]
        }
      ]
    },
    {
      "cell_type": "code",
      "source": [
        "2. #Write a program to create an abstract class Shape with a method area(). Derive classes Circle and Rectangle from it and implement the area() method in both.\n",
        "class shape:\n",
        "  from abc import ABC, abstractmethod\n",
        "  class shape(ABC):\n",
        "\n",
        "    @abstractmethod\n",
        "    def calculate_area(self):\n",
        "      pass\n",
        "  class Circle(shape):\n",
        "   def calculate_area(self):\n",
        "    return \"Area of Circle is pi r**2\"\n",
        "  class Rectangle(shape):\n",
        "   def calculate_area(salf):\n",
        "    return \"Area of Rectangle is length*breadth\"\n"
      ],
      "metadata": {
        "id": "1R5MmVtMh45g"
      },
      "execution_count": null,
      "outputs": []
    },
    {
      "cell_type": "code",
      "source": [
        "  Cir = Circle()\n",
        "  Cir.calculate_area()\n"
      ],
      "metadata": {
        "colab": {
          "base_uri": "https://localhost:8080/",
          "height": 36
        },
        "id": "1OFLWBJskc0f",
        "outputId": "2d353c13-91f6-4c75-9a6b-3d7b0d39e890"
      },
      "execution_count": null,
      "outputs": [
        {
          "output_type": "execute_result",
          "data": {
            "text/plain": [
              "'area of circle is pi r **2'"
            ],
            "application/vnd.google.colaboratory.intrinsic+json": {
              "type": "string"
            }
          },
          "metadata": {},
          "execution_count": 32
        }
      ]
    },
    {
      "cell_type": "code",
      "source": [
        "Rect = Rectangle()\n",
        "Rect.calculate_area()"
      ],
      "metadata": {
        "colab": {
          "base_uri": "https://localhost:8080/",
          "height": 36
        },
        "id": "HweMIJh8kiXk",
        "outputId": "0d267e57-1105-46af-beda-7b8c1129c56f"
      },
      "execution_count": null,
      "outputs": [
        {
          "output_type": "execute_result",
          "data": {
            "text/plain": [
              "'Area of rectange is len*breadth'"
            ],
            "application/vnd.google.colaboratory.intrinsic+json": {
              "type": "string"
            }
          },
          "metadata": {},
          "execution_count": 28
        }
      ]
    },
    {
      "cell_type": "code",
      "source": [
        "3. #Implement a multi-level inheritance scenario where a class Vehicle has an attribute type. Derive a class Car and further derive a class ElectricCar that adds a battery attribute.\n",
        "class Vehicle:\n",
        "    def __init__(self, vehicle_type):\n",
        "        self.type = vehicle_type\n",
        "\n",
        "class Car(Vehicle):\n",
        "    def __init__(self, vehicle_type, model):\n",
        "        super().__init__(vehicle_type)\n",
        "        self.model = model\n",
        "\n",
        "class ElectricCar(Car):\n",
        "    def __init__(self, vehicle_type, model, battery_size):\n",
        "        super().__init__(vehicle_type, model)\n",
        "        self.battery = battery_size\n",
        "\n",
        "# Example usage:\n",
        "electric_car = ElectricCar(\"car\", \"Tesla Model S\", \"100 kWh\")\n",
        "print(f\"Vehicle Type: {electric_car.type}\")\n",
        "print(f\"Car Model: {electric_car.model}\")\n",
        "print(f\"Battery Size: {electric_car.battery}\")"
      ],
      "metadata": {
        "colab": {
          "base_uri": "https://localhost:8080/"
        },
        "id": "hl2pM1Jok4H9",
        "outputId": "66abdb97-5550-49b9-fff2-7190a7e214e6"
      },
      "execution_count": null,
      "outputs": [
        {
          "output_type": "stream",
          "name": "stdout",
          "text": [
            "Vehicle Type: car\n",
            "Car Model: Tesla Model S\n",
            "Battery Size: 100 kWh\n"
          ]
        }
      ]
    },
    {
      "cell_type": "code",
      "source": [
        "4. #Demonstrate polymorphism by creating a base class Bird with a method fly(). Create two derived classes Sparrow and Penguin that override the fly() method.\n",
        "class Bird:\n",
        "    def fly(self):\n",
        "        print(\"Birds can fly\")\n",
        "\n",
        "class Sparrow(Bird):\n",
        "    def fly(self):\n",
        "        print(\"Sparrows can fly high\")\n",
        "\n",
        "class Penguin(Bird):\n",
        "    def fly(self):\n",
        "        print(\"Penguins cannot fly, but they can swim\")\n",
        "\n",
        "# Demonstrate polymorphism\n",
        "def make_bird_fly(bird):\n",
        "    bird.fly()\n",
        "\n",
        "sparrow = Sparrow()\n",
        "penguin = Penguin()\n",
        "\n",
        "make_bird_fly(sparrow)\n",
        "make_bird_fly(penguin)"
      ],
      "metadata": {
        "colab": {
          "base_uri": "https://localhost:8080/"
        },
        "id": "008g9bLPk62c",
        "outputId": "7b63318f-190f-4f92-83a1-440432378e5d"
      },
      "execution_count": null,
      "outputs": [
        {
          "output_type": "stream",
          "name": "stdout",
          "text": [
            "Sparrows can fly high\n",
            "Penguins cannot fly, but they can swim\n"
          ]
        }
      ]
    },
    {
      "cell_type": "code",
      "metadata": {
        "colab": {
          "base_uri": "https://localhost:8080/"
        },
        "id": "6ff85c80",
        "outputId": "5e5c998a-2be9-4edc-83e1-0ccf10b2baf4"
      },
      "source": [
        "5. # Write a program to demonstrate encapsulation by creating a class BankAccount with private attributes balance and methods to deposit, withdraw, and check balance.\n",
        "class BankAccount:\n",
        "    def __init__(self):\n",
        "        self._balance = 0\n",
        "\n",
        "    def deposit(self, amount):\n",
        "        if amount > 0:\n",
        "            self._balance += amount\n",
        "            print(f\"Deposited: {amount}. New balance: {self._balance}\")\n",
        "        else:\n",
        "            print(\"Invalid deposit amount.\")\n",
        "\n",
        "    def withdraw(self, amount):\n",
        "        if 0 < amount <= self._balance:\n",
        "            self._balance -= amount\n",
        "            print(f\"Withdrew: {amount}. New balance: {self._balance}\")\n",
        "        else:\n",
        "            print(\"Insufficient funds or invalid withdrawal amount.\")\n",
        "\n",
        "    def get_balance(self):\n",
        "        return self._balance\n",
        "\n",
        "\n",
        "account = BankAccount()\n",
        "account.deposit(100)\n",
        "account.withdraw(50)\n",
        "print(f\"Current balance: {account.get_balance()}\")\n",
        "\n",
        "\n"
      ],
      "execution_count": null,
      "outputs": [
        {
          "output_type": "stream",
          "name": "stdout",
          "text": [
            "Deposited: 100. New balance: 100\n",
            "Withdrew: 50. New balance: 50\n",
            "Current balance: 50\n"
          ]
        }
      ]
    },
    {
      "cell_type": "code",
      "source": [
        "6. #Demonstrate runtime polymorphism using a method play() in a base class Instrument. Derive classes Guitar and Piano that implement their own version of play().\n",
        "class Instrument:\n",
        "    def play(self):\n",
        "        print(\"Playing an instrument\")\n",
        "\n",
        "class Guitar(Instrument):\n",
        "    def play(self):\n",
        "        print(\"Playing the guitar\")\n",
        "\n",
        "class Piano(Instrument):\n",
        "    def play(self):\n",
        "        print(\"Playing the piano\")\n",
        "\n",
        "# Demonstrate runtime polymorphism\n",
        "def make_instrument_play(instrument):\n",
        "    instrument.play()\n",
        "\n",
        "guitar = Guitar()\n",
        "piano = Piano()\n",
        "\n",
        "make_instrument_play(guitar)\n",
        "make_instrument_play(piano)"
      ],
      "metadata": {
        "colab": {
          "base_uri": "https://localhost:8080/"
        },
        "id": "iPXHimRbH6gi",
        "outputId": "183ebed0-9a10-44d2-eae5-57a10722bc8a"
      },
      "execution_count": null,
      "outputs": [
        {
          "output_type": "stream",
          "name": "stdout",
          "text": [
            "Playing the guitar\n",
            "Playing the piano\n"
          ]
        }
      ]
    },
    {
      "cell_type": "code",
      "source": [
        "7. #Create a class MathOperations with a class method add_numbers() to add two numbers and a static method subtract_numbers() to subtract two numbers.\n",
        "class MathOperations:\n",
        "    @classmethod\n",
        "    def add_numbers(cls, x, y):\n",
        "        return x + y\n",
        "\n",
        "    @staticmethod\n",
        "    def subtract_numbers(x, y):\n",
        "        return x - y\n",
        "\n",
        "# Demonstrate the methods\n",
        "print(f\"Addition: {MathOperations.add_numbers(10, 5)}\")\n",
        "print(f\"Subtraction: {MathOperations.subtract_numbers(10, 5)}\")"
      ],
      "metadata": {
        "colab": {
          "base_uri": "https://localhost:8080/"
        },
        "id": "COceuz48IZ2G",
        "outputId": "cfd83809-9b52-4f28-b592-a3f9a917f493"
      },
      "execution_count": null,
      "outputs": [
        {
          "output_type": "stream",
          "name": "stdout",
          "text": [
            "Addition: 15\n",
            "Subtraction: 5\n"
          ]
        }
      ]
    },
    {
      "cell_type": "code",
      "source": [
        "8. #Implement a class Person with a class method to count the total number of persons created.\n",
        "class Person:\n",
        "  total_persons = 0\n",
        "  def __init__(self,name):\n",
        "    self.name = name\n",
        "    Person.total_persons +=1\n",
        "\n",
        "  @classmethod\n",
        "  def count_persons(cls):\n",
        "    return cls.total_persons\n",
        "\n",
        "person1 = Person(\"Shriram\")\n",
        "person2 = Person(\"Sita\")\n",
        "person3 = Person(\"Lakshman\")\n",
        "print(f\"total number of persons created:{Person.count_persons()}\")"
      ],
      "metadata": {
        "colab": {
          "base_uri": "https://localhost:8080/"
        },
        "id": "5X-B64xkIypq",
        "outputId": "72e0d3e2-20f7-43b8-dd86-cd14d5e7074c"
      },
      "execution_count": null,
      "outputs": [
        {
          "output_type": "stream",
          "name": "stdout",
          "text": [
            "total number of persons created:3\n"
          ]
        }
      ]
    },
    {
      "cell_type": "code",
      "source": [
        "9. #Write a class Fraction with attributes numerator and denominator. Override the str method to display the fraction as \"numerator/denominator\".\n",
        "class Fraction:\n",
        "    def __init__(self, numerator, denominator):\n",
        "        self.numerator = numerator\n",
        "        self.denominator = denominator\n",
        "\n",
        "    def __str__(self):\n",
        "        return f\"{self.numerator}/{self.denominator}\"\n",
        "\n",
        "# Demonstrate the __str__ method\n",
        "fraction = Fraction(3, 4)\n",
        "print(fraction)  # This will call the __str__ method"
      ],
      "metadata": {
        "colab": {
          "base_uri": "https://localhost:8080/"
        },
        "id": "ZvRHLVu_La4f",
        "outputId": "3cd918c4-cf6d-4af0-9ea7-8b6e518aae44"
      },
      "execution_count": null,
      "outputs": [
        {
          "output_type": "stream",
          "name": "stdout",
          "text": [
            "3/4\n"
          ]
        }
      ]
    },
    {
      "cell_type": "code",
      "source": [
        "10. #Demonstrate operator overloading by creating a class Vector and overriding the add method to add two vectors.\n",
        "\n",
        "class Vector:\n",
        "    def __init__(self, x, y):\n",
        "        self.x = x\n",
        "        self.y = y\n",
        "\n",
        "    def __str__(self):\n",
        "        return f\"Vector({self.x}, {self.y})\"\n",
        "\n",
        "    def __add__(self, other):\n",
        "        if isinstance(other, Vector):\n",
        "            return Vector(self.x + other.x, self.y + other.y)\n",
        "        else:\n",
        "            raise TypeError(\"Can only add a Vector object\")\n",
        "\n",
        "# Demonstrate operator overloading\n",
        "vector1 = Vector(2, 3)\n",
        "vector2 = Vector(1, 4)\n",
        "\n",
        "vector3 = vector1 + vector2  # This calls the __add__ method\n",
        "\n",
        "print(f\"{vector1} + {vector2} = {vector3}\")"
      ],
      "metadata": {
        "colab": {
          "base_uri": "https://localhost:8080/"
        },
        "id": "cAQelrECLoTs",
        "outputId": "136dcb5f-76e0-46b7-b82c-9cceb58cdede"
      },
      "execution_count": null,
      "outputs": [
        {
          "output_type": "stream",
          "name": "stdout",
          "text": [
            "Vector(2, 3) + Vector(1, 4) = Vector(3, 7)\n"
          ]
        }
      ]
    },
    {
      "cell_type": "code",
      "source": [
        "11. #Create a class Person with attributes name and age. Add a method greet() that prints \"Hello, my name is {name} and I am {age} years old.\"\n",
        "class Person:\n",
        "    def __init__(self, name, age):\n",
        "        self.name = name\n",
        "        self.age = age\n",
        "\n",
        "    def greet(self):\n",
        "        print(f\"Hello, my name is {self.name} and I am {self.age} years old.\")\n",
        "\n",
        "# Demonstrate the class\n",
        "person1 = Person(\"Shriram Pandey\", 24)\n",
        "person1.greet()"
      ],
      "metadata": {
        "colab": {
          "base_uri": "https://localhost:8080/"
        },
        "id": "Ai_EQTnYOHAH",
        "outputId": "0aa82dd7-27ea-4e87-a5c7-d0fb5f80dc7a"
      },
      "execution_count": null,
      "outputs": [
        {
          "output_type": "stream",
          "name": "stdout",
          "text": [
            "Hello, my name is Shriram Pandey and I am 24 years old.\n"
          ]
        }
      ]
    },
    {
      "cell_type": "code",
      "source": [
        "12. #Implement a class Student with attributes name and grades. Create a method average_grade() to compute the average of the grades.\n",
        "class Student:\n",
        "    def __init__(self, name):\n",
        "        self.name = name\n",
        "        self.grades = []\n",
        "    def add_grade(self, grade):\n",
        "        self.grades.append(grade)\n",
        "\n",
        "    def average_grade(self):\n",
        "        if not self.grades:\n",
        "            return 0\n",
        "        return sum(self.grades) / len(self.grades)\n",
        "\n",
        "student1 = Student(\"Bob\")\n",
        "student1.add_grade(85)\n",
        "student1.add_grade(90)\n",
        "student1.add_grade(95)\n",
        "\n",
        "print(f\"{student1.name}'s average grade is: {student1.average_grade()}\")\n",
        "\n",
        "student2 = Student(\"Alice\")\n",
        "print(f\"{student2.name}'s average grade is: {student2.average_grade()}\")"
      ],
      "metadata": {
        "colab": {
          "base_uri": "https://localhost:8080/"
        },
        "id": "21OAcUt9Oy7J",
        "outputId": "9e8bc60f-b149-4a4a-8ab9-bd3edfd6a4b2"
      },
      "execution_count": null,
      "outputs": [
        {
          "output_type": "stream",
          "name": "stdout",
          "text": [
            "Bob's average grade is: 90.0\n",
            "Alice's average grade is: 0\n"
          ]
        }
      ]
    },
    {
      "cell_type": "code",
      "source": [
        "13.#Create a class Rectangle with methods set_dimensions() to set the dimensions and area() to calculate the area.\n",
        "class Rectangle:\n",
        "    def __init__(self):\n",
        "        self.length = 0\n",
        "        self.width = 0\n",
        "\n",
        "    def set_dimensions(self, length, width):\n",
        "        if length >= 0 and width >= 0:\n",
        "            self.length = length\n",
        "            self.width = width\n",
        "        else:\n",
        "            print(\"Dimensions must be non-negative.\")\n",
        "\n",
        "    def area(self):\n",
        "        return self.length * self.width\n",
        "\n",
        "# Demonstrate the class\n",
        "rectangle = Rectangle()\n",
        "rectangle.set_dimensions(5, 10)\n",
        "print(f\"The area of the rectangle is: {rectangle.area()}\")\n",
        "\n",
        "rectangle.set_dimensions(2, 7)\n",
        "print(f\"The area of the rectangle is: {rectangle.area()}\")\n"
      ],
      "metadata": {
        "colab": {
          "base_uri": "https://localhost:8080/"
        },
        "id": "sPR0aVd4QJOw",
        "outputId": "ef36ef5f-f945-4351-be2c-7932ab4e13a0"
      },
      "execution_count": null,
      "outputs": [
        {
          "output_type": "stream",
          "name": "stdout",
          "text": [
            "The area of the rectangle is: 50\n",
            "The area of the rectangle is: 14\n"
          ]
        }
      ]
    },
    {
      "cell_type": "code",
      "source": [
        "14. #Create a class Employee with a method calculate_salary() that computes the salary based on hours worked and hourly rate. Create a derived class Manager that adds a bonus to the salary.\n",
        "class Employee:\n",
        "    def __init__(self, hours_worked, hourly_rate):\n",
        "        self.hours_worked = hours_worked\n",
        "        self.hourly_rate = hourly_rate\n",
        "\n",
        "    def calculate_salary(self):\n",
        "        return self.hours_worked * self.hourly_rate\n",
        "\n",
        "class Manager(Employee):\n",
        "    def __init__(self, hours_worked, hourly_rate, bonus):\n",
        "        super().__init__(hours_worked, hourly_rate)\n",
        "        self.bonus = bonus\n",
        "\n",
        "    def calculate_salary(self):\n",
        "        base_salary = super().calculate_salary()\n",
        "        return base_salary + self.bonus\n",
        "\n",
        "# Demonstrate the classes\n",
        "employee = Employee(40, 20)\n",
        "print(f\"Employee salary: ₹{employee.calculate_salary()}\")\n",
        "\n",
        "manager = Manager(40, 20, 500)\n",
        "print(f\"Manager salary: ₹{manager.calculate_salary()}\")\n"
      ],
      "metadata": {
        "colab": {
          "base_uri": "https://localhost:8080/"
        },
        "id": "e7cJR-pERcgD",
        "outputId": "a4c5cfbf-10b3-4498-f285-1e07d119a693"
      },
      "execution_count": null,
      "outputs": [
        {
          "output_type": "stream",
          "name": "stdout",
          "text": [
            "Employee salary: ₹800\n",
            "Manager salary: ₹1300\n"
          ]
        }
      ]
    },
    {
      "cell_type": "code",
      "source": [
        "15. #Create a class Product with attributes name, price, and quantity. Implement a method total_price() that calculates the total price of the product.\n",
        "class Product:\n",
        "  def __init__(self,name,price,quantity):\n",
        "    self.name = name\n",
        "    self.price = price\n",
        "    self.quantity = quantity\n",
        "\n",
        "  def total_price(self):\n",
        "    return self.price * self.quantity\n",
        "\n",
        "product1 = Product(\"Iphone17\", 120000, 3)\n",
        "print(f\"Product: {product1.name}, Total Price: ₹{product1.total_price()}\")\n",
        "\n",
        "product2 = Product(\"Charger\", 2000, 5)\n",
        "print(f\"Product: {product2.name}, Total Price: ₹{product2.total_price()}\")"
      ],
      "metadata": {
        "colab": {
          "base_uri": "https://localhost:8080/"
        },
        "id": "wXt_jlU6SBsL",
        "outputId": "e54c5530-dab7-43ca-eb45-2812a53adbec"
      },
      "execution_count": null,
      "outputs": [
        {
          "output_type": "stream",
          "name": "stdout",
          "text": [
            "Product: Iphone17, Total Price: ₹360000\n",
            "Product: Charger, Total Price: ₹10000\n"
          ]
        }
      ]
    },
    {
      "cell_type": "code",
      "source": [
        "16. #Create a class Animal with an abstract method sound(). Create two derived classes Cow and Sheep that implement the sound() method.\n",
        "\n",
        "from abc import ABC, abstractmethod\n",
        "\n",
        "class Animal(ABC):\n",
        "  @abstractmethod\n",
        "  def sound(self):\n",
        "    pass\n",
        "class cow(Animal):\n",
        "  def sound(self):\n",
        "    return \"moo\"\n",
        "\n",
        "class sheep(Animal):\n",
        "  def sound(self):\n",
        "    return \"baa\"\n",
        "\n",
        "cow = cow()\n",
        "sheep = sheep()\n",
        "\n",
        "print(f\"cow sound: {cow.sound()}\")\n",
        "print(f\"sheep sound: {sheep.sound()}\")\n"
      ],
      "metadata": {
        "colab": {
          "base_uri": "https://localhost:8080/"
        },
        "id": "b1HmIZ30VaA0",
        "outputId": "07a62857-1662-4219-ea05-ac39e64ba561"
      },
      "execution_count": null,
      "outputs": [
        {
          "output_type": "stream",
          "name": "stdout",
          "text": [
            "cow sound: moo\n",
            "sheep sound: baa\n"
          ]
        }
      ]
    },
    {
      "cell_type": "code",
      "source": [
        "17. #Create a class Book with attributes title, author, and year_published. Add a method get_book_info() that returns a formatted string with the book's details.\n",
        "class Book:\n",
        "    def __init__(self, title, author, year_published):\n",
        "        self.title = title\n",
        "        self.author = author\n",
        "        self.year_published = year_published\n",
        "\n",
        "    def get_book_info(self):\n",
        "        return f\"Title: {self.title}, Author: {self.author}, Year Published: {self.year_published}\"\n",
        "\n",
        "# Demonstrate the class\n",
        "book1 = Book(\"The Hitchhiker's Guide to the Galaxy\", \"Douglas Adams\", 1979)\n",
        "print(book1.get_book_info())\n",
        "\n",
        "book2 = Book(\"Pride and Prejudice\", \"Jane Austen\", 1813)\n",
        "print(book2.get_book_info())"
      ],
      "metadata": {
        "colab": {
          "base_uri": "https://localhost:8080/"
        },
        "id": "AbmEtzASXIEG",
        "outputId": "7cafbc69-3c3c-4686-ee47-09bcf83c20bb"
      },
      "execution_count": null,
      "outputs": [
        {
          "output_type": "stream",
          "name": "stdout",
          "text": [
            "Title: The Hitchhiker's Guide to the Galaxy, Author: Douglas Adams, Year Published: 1979\n",
            "Title: Pride and Prejudice, Author: Jane Austen, Year Published: 1813\n"
          ]
        }
      ]
    },
    {
      "cell_type": "code",
      "source": [
        "18. #Create a class House with attributes address and price. Create a derived class Mansion that adds an attribute number_of_rooms.\n",
        "class House:\n",
        "    def __init__(self, address, price):\n",
        "        self.address = address\n",
        "        self.price = price\n",
        "\n",
        "    def get_house_info(self):\n",
        "        return f\"Address: {self.address}, Price: ₹{self.price}\"\n",
        "\n",
        "class Mansion(House):\n",
        "    def __init__(self, address, price, number_of_rooms):\n",
        "        super().__init__(address, price)\n",
        "        self.number_of_rooms = number_of_rooms\n",
        "\n",
        "    def get_mansion_info(self):\n",
        "        house_info = super().get_house_info()\n",
        "        return f\"{house_info}, Number of Rooms: {self.number_of_rooms}\"\n",
        "\n",
        "# Demonstrate the classes\n",
        "house = House(\"123 Main St\", 300000)\n",
        "print(house.get_house_info())\n",
        "\n",
        "mansion = Mansion(\"456 Oak Ave\", 1500000, 10)\n",
        "print(mansion.get_mansion_info())"
      ],
      "metadata": {
        "colab": {
          "base_uri": "https://localhost:8080/"
        },
        "id": "qGXTGrgUaRDv",
        "outputId": "0dfa1c5d-563e-4ce0-a093-8474d74c3a18"
      },
      "execution_count": null,
      "outputs": [
        {
          "output_type": "stream",
          "name": "stdout",
          "text": [
            "Address: 123 Main St, Price: ₹300000\n",
            "Address: 456 Oak Ave, Price: ₹1500000, Number of Rooms: 10\n"
          ]
        }
      ]
    }
  ]
}